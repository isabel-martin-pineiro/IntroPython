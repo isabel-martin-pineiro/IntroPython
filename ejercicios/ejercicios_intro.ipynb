{
  "cells": [
    {
      "attachments": {},
      "cell_type": "markdown",
      "metadata": {
        "id": "jflO5ntVF-bN"
      },
      "source": [
        "# Python 101"
      ]
    },
    {
      "attachments": {},
      "cell_type": "markdown",
      "metadata": {},
      "source": [
        "## Ejercicios Básicos de introducción, listas y bucles"
      ]
    },
    {
      "cell_type": "code",
      "execution_count": null,
      "metadata": {
        "colab": {
          "base_uri": "https://localhost:8080/"
        },
        "id": "36V1uK9oGA2a",
        "outputId": "57a271ab-f11b-4899-f3cc-885e63a0ecee"
      },
      "outputs": [
        {
          "name": "stdout",
          "output_type": "stream",
          "text": [
            "['Matemáticas', 'Física', 'Química', 'Historia', 'Lengua']\n",
            "Matemáticas\n",
            "5\n"
          ]
        }
      ],
      "source": [
        "#Escribir un programa que almacene las asignaturas de un curso (por ejemplo \n",
        "#Matemáticas, Física, Química, Historia y Lengua) en una lista y la muestre por \n",
        "#pantalla.\n",
        "\n",
        "asignatura = [\"Matemáticas\", \"Física\", \"Química\", \"Historia\", \"Lengua\"]\n",
        "print(asignatura)\n",
        "print(asignatura[0])\n",
        "print(len(asignatura))\n"
      ]
    },
    {
      "cell_type": "code",
      "execution_count": null,
      "metadata": {
        "colab": {
          "base_uri": "https://localhost:8080/"
        },
        "id": "uBU-ioaRHjfM",
        "outputId": "b255d16c-9d84-4b09-edbb-96caef796dad"
      },
      "outputs": [
        {
          "name": "stdout",
          "output_type": "stream",
          "text": [
            "Yo estudio Matemáticas.\n",
            "Yo estudio Física.\n",
            "Yo estudio Química.\n",
            "Yo estudio Historia.\n",
            "Yo estudio Lengua.\n"
          ]
        }
      ],
      "source": [
        "#Escribir un programa que almacene las asignaturas de un curso \n",
        "#(por ejemplo Matemáticas, Física, Química, Historia y Lengua) en una lista y \n",
        "#la muestre por pantalla el mensaje Yo estudio <asignatura>, \n",
        "#donde <asignatura> es cada una de las asignaturas de la lista.\n",
        "\n",
        "asignatura = [\"Matemáticas\", \"Física\", \"Química\", \"Historia\", \"Lengua\"]\n",
        "for each in asignatura:\n",
        "  print(f\"Yo estudio {each}.\")"
      ]
    },
    {
      "cell_type": "code",
      "execution_count": null,
      "metadata": {
        "colab": {
          "base_uri": "https://localhost:8080/"
        },
        "id": "nJD6IOR7I9rW",
        "outputId": "e0242593-a51e-485a-9771-4567ce334520"
      },
      "outputs": [
        {
          "name": "stdout",
          "output_type": "stream",
          "text": [
            "¿Qué nota has sacado en Matemáticas?: 8\n",
            "¿Qué nota has sacado en Física?: 6\n",
            "¿Qué nota has sacado en Química?: 4\n",
            "¿Qué nota has sacado en Historia?: 6\n",
            "¿Qué nota has sacado en Lengua?: 2\n",
            "En Matemáticas has sacado 8\n",
            "En Física has sacado 6\n",
            "En Química has sacado 4\n",
            "En Historia has sacado 6\n",
            "En Lengua has sacado 2\n"
          ]
        }
      ],
      "source": [
        "#Escribir un programa que almacene las asignaturas de un curso (por ejemplo \n",
        "#Matemáticas, Física, Química, Historia y Lengua) en una lista, pregunte al \n",
        "#usuario la nota que ha sacado en cada asignatura, y después las muestre por\n",
        "# pantalla con el mensaje En <asignatura> has sacado <nota> donde <asignatura> \n",
        "#es cada una des las asignaturas de la lista y <nota> cada una de las \n",
        "#correspondientes notas introducidas por el usuario.\n",
        "asignaturas = [\"Matemáticas\", \"Física\", \"Química\", \"Historia\", \"Lengua\"]\n",
        "notas = []\n",
        "for each in asignaturas:\n",
        "  nota = int(input(f\"¿Qué nota has sacado en {each}?: \"))\n",
        "  notas.append(nota)\n",
        "\n",
        "for i in range(len(asignaturas)):\n",
        "  print(f\"En {asignaturas[i]} has sacado {notas[i]}\")5"
      ]
    },
    {
      "cell_type": "code",
      "execution_count": null,
      "metadata": {
        "colab": {
          "base_uri": "https://localhost:8080/"
        },
        "id": "2UML82SLNaWB",
        "outputId": "b1f7cc2e-ea96-4a34-9fda-d05fe435f414"
      },
      "outputs": [
        {
          "name": "stdout",
          "output_type": "stream",
          "text": [
            "Introduce un número: 2\n",
            "Introduce un número: 1\n",
            "Introduce un número: 2\n",
            "Introduce un número: 9\n",
            "Introduce un número: 4\n",
            "Introduce un número: 8\n",
            "[1, 2, 2, 4, 8, 9]\n"
          ]
        }
      ],
      "source": [
        "#Escribir un programa que pregunte al usuario los números ganadores de la \n",
        "#lotería primitiva, los almacene en una lista y los muestre por pantalla \n",
        "#ordenados de menor a mayor.\n",
        "numeros = []\n",
        "for i in range(6):\n",
        "  numero = int(input(f\"Introduce un número: \"))\n",
        "  numeros.append(numero)\n",
        "numeros.sort()\n",
        "print(numeros)\n",
        "\n",
        "\n",
        "\n",
        "\n"
      ]
    },
    {
      "cell_type": "code",
      "execution_count": null,
      "metadata": {
        "colab": {
          "base_uri": "https://localhost:8080/"
        },
        "id": "VlEaYsT-QkdN",
        "outputId": "54ea14f2-0039-485c-d422-ad43bcdf62eb"
      },
      "outputs": [
        {
          "name": "stdout",
          "output_type": "stream",
          "text": [
            "10,9,8,7,6,5,4,3,2,1\n"
          ]
        }
      ],
      "source": [
        "#Escribir un programa que almacene en una lista los números del 1 al 10 y los \n",
        "#muestre por pantalla en orden inverso separados por comas\n",
        "\n",
        "numeros = [1,2,3,4,5,6,7,8,9,10]\n",
        "numeros.reverse()\n",
        "for each in range(9):\n",
        "  print(numeros[each], end=\",\")\n",
        "print(numeros[-1])"
      ]
    },
    {
      "cell_type": "code",
      "execution_count": 2,
      "metadata": {
        "colab": {
          "base_uri": "https://localhost:8080/"
        },
        "id": "XbP9yKFcSCra",
        "outputId": "c02e201c-1fc7-438e-df97-67e72f739450"
      },
      "outputs": [
        {
          "name": "stdout",
          "output_type": "stream",
          "text": [
            "Dame un número: 2\n",
            "Dame otro número: 5\n",
            "El resultado es 10\n"
          ]
        }
      ],
      "source": [
        "#Calcula la multiplicación y suma de 2 números.\n",
        "#Pide al usuario que introduczca 2 números y devuelve su producto solo si es \n",
        "#menor o igual a 1000, si no devuelve su suma. Muestra por pantalla el resultado\n",
        "# debe ser de la siguiente forma: \"El resultado es < solucion >.\n",
        "\n",
        "numero1 = int(input(\"Dame un número: \"))\n",
        "numero2 = int(input(\"Dame otro número: \"))\n",
        "if (numero1*numero2) <= 1000:\n",
        "  print(f\"El resultado es {numero1*numero2}\")\n",
        "else:\n",
        "  print(f\"El resultado es {numero1+numero2}\")\n"
      ]
    },
    {
      "cell_type": "code",
      "execution_count": 3,
      "metadata": {
        "colab": {
          "base_uri": "https://localhost:8080/"
        },
        "id": "6BO3p6ZBTnTX",
        "outputId": "a1f2286f-d07f-4ae3-c266-e91ef8c57e52"
      },
      "outputs": [
        {
          "name": "stdout",
          "output_type": "stream",
          "text": [
            "Dame la base: 4\n",
            "Dame la altura: 5\n",
            "El área es 10.0.\n"
          ]
        }
      ],
      "source": [
        "#Calcular el área de un triángulo:\n",
        "#Este ejercicio consiste en pedir al usuario que ingrese la base y la altura de \n",
        "#un triángulo y luego calcular y mostrar su área.\n",
        "\n",
        "base = float(input(\"Dame la base: \"))\n",
        "altura = float(input(\"Dame la altura: \"))\n",
        "area = (base*altura)/2\n",
        "print(f\"El área es {area}.\")"
      ]
    },
    {
      "cell_type": "code",
      "execution_count": 5,
      "metadata": {
        "colab": {
          "base_uri": "https://localhost:8080/"
        },
        "id": "VG_6yQWIUTTJ",
        "outputId": "a6ed5910-d77e-471f-f19f-deb0175319fa"
      },
      "outputs": [
        {
          "name": "stdout",
          "output_type": "stream",
          "text": [
            "1\n",
            "3\n",
            "5\n",
            "7\n",
            "9\n",
            "11\n",
            "13\n",
            "15\n",
            "17\n",
            "19\n"
          ]
        }
      ],
      "source": [
        "#Imprimir números pares del 1 al 20:\n",
        "#Este ejercicio consiste en imprimir todos los números pares del 1 al 20.\n",
        "for i in range(1,21):\n",
        "  if i % 2 != 0:\n",
        "    print(i)"
      ]
    },
    {
      "cell_type": "code",
      "execution_count": 8,
      "metadata": {
        "colab": {
          "base_uri": "https://localhost:8080/"
        },
        "id": "ePqLXLRIVOsX",
        "outputId": "e1104863-5872-4a52-97d0-7008468a82b9"
      },
      "outputs": [
        {
          "name": "stdout",
          "output_type": "stream",
          "text": [
            "El número mayor es 2367\n"
          ]
        }
      ],
      "source": [
        "#Encontrar el elemento más grande de una lista:\n",
        "#Este ejercicio consiste en crear una lista de números y encontrar \n",
        "#el número más grande de la lista.\n",
        "numeros = [5,7,1,10,356,27,19,2367,26]\n",
        "mayor = numeros[0]\n",
        "for each in numeros:\n",
        "  if each > mayor:\n",
        "    mayor = each\n",
        "print(f\"El número mayor es {mayor}\") "
      ]
    },
    {
      "cell_type": "code",
      "execution_count": 10,
      "metadata": {
        "colab": {
          "base_uri": "https://localhost:8080/"
        },
        "id": "i2t5ppwyYEQq",
        "outputId": "b1645bcb-5d8a-4e3a-ed18-cb7283b5a3af"
      },
      "outputs": [
        {
          "name": "stdout",
          "output_type": "stream",
          "text": [
            "La lista original es [1, 4, 2, 2, 4, 6, 8]\n",
            "La lista sin duplicados es [1, 2, 4, 6, 8]\n"
          ]
        }
      ],
      "source": [
        "#Eliminar elementos duplicados de una lista:\n",
        "#Este ejercicio consiste en crear una lista con elementos duplicados y \n",
        "#eliminar los elementos duplicados.\n",
        "lista = [1,4,2,2,4,6,8]\n",
        "lista_sin_duplicados = list(set(lista))\n",
        "print(f\"La lista original es {lista}\")\n",
        "print(f\"La lista sin duplicados es {lista_sin_duplicados}\")\n"
      ]
    },
    {
      "cell_type": "code",
      "execution_count": 11,
      "metadata": {
        "colab": {
          "base_uri": "https://localhost:8080/"
        },
        "id": "qW8rQ-CdZWGM",
        "outputId": "e1580539-1211-4849-ee68-299c5470de28"
      },
      "outputs": [
        {
          "name": "stdout",
          "output_type": "stream",
          "text": [
            "[1, 3, 5, 7, 9, 2, 4, 6, 8]\n"
          ]
        }
      ],
      "source": [
        "#Concatenar dos listas:\n",
        "#Este ejercicio consiste en crear dos listas y luego concatenarlas \n",
        "#en una sola lista.\n",
        "lista_1 = [1,3,5,7,9]\n",
        "lista_2 = [2,4,6,8]\n",
        "listas_concatenadas = lista_1 + lista_2\n",
        "print(listas_concatenadas)"
      ]
    },
    {
      "cell_type": "code",
      "execution_count": 12,
      "metadata": {
        "colab": {
          "base_uri": "https://localhost:8080/"
        },
        "id": "l920GLCvaBwn",
        "outputId": "a8aad472-b7ae-4eee-eefc-1aa762737ae7"
      },
      "outputs": [
        {
          "name": "stdout",
          "output_type": "stream",
          "text": [
            "46\n"
          ]
        }
      ],
      "source": [
        "#Calcular la suma de los elementos de una lista:\n",
        "#Este ejercicio consiste en crear una lista de números y calcular \n",
        "#la suma de todos los elementos de la lista.\n",
        "\n",
        "lista = [2,3,4,7,9,21]\n",
        "suma = 0\n",
        "for each in lista:\n",
        "  suma = suma + each\n",
        "print(suma)"
      ]
    },
    {
      "cell_type": "code",
      "execution_count": 13,
      "metadata": {
        "colab": {
          "base_uri": "https://localhost:8080/"
        },
        "id": "WweBqg-3bqc5",
        "outputId": "47a86dc7-1ed8-44f2-d067-5f59bdcae26f"
      },
      "outputs": [
        {
          "name": "stdout",
          "output_type": "stream",
          "text": [
            "2\n"
          ]
        }
      ],
      "source": [
        "#Encontrar el índice de un elemento en una lista:\n",
        "#Este ejercicio consiste en crear una lista y encontrar el índice de un \n",
        "#elemento específico en la lista\n",
        "lista = [\"oso\", \"casa\", \"gatito\", \"cielo\", \"televisor\"]\n",
        "indice = lista.index(\"gatito\")\n",
        "print(indice)"
      ]
    },
    {
      "cell_type": "code",
      "execution_count": 14,
      "metadata": {
        "colab": {
          "base_uri": "https://localhost:8080/"
        },
        "id": "W2Kkweh7cQ24",
        "outputId": "ac2e0277-0345-4f03-edda-0146eaf9f3e0"
      },
      "outputs": [
        {
          "name": "stdout",
          "output_type": "stream",
          "text": [
            "[1, 1, 2, 3, 5, 7, 9, 10]\n"
          ]
        }
      ],
      "source": [
        "#Ordenar una lista de números en orden ascendente:\n",
        "#Este ejercicio consiste en crear una lista de números y ordenarlos en orden ascendente.\n",
        "lista = [1,5,2,7,3,9,10,1]\n",
        "lista.sort()\n",
        "print(lista)\n"
      ]
    },
    {
      "attachments": {},
      "cell_type": "markdown",
      "metadata": {},
      "source": [
        "EJERCICIOS 16.02.2023"
      ]
    },
    {
      "cell_type": "code",
      "execution_count": null,
      "metadata": {},
      "outputs": [],
      "source": [
        "# Eliminar el último elemento de una lista:\n",
        "# Este ejercicio consiste en crear una lista y eliminar el último elemento de la lista.\n",
        "lista = [1,5,2,7,3,9,10,1]\n",
        "\n"
      ]
    },
    {
      "cell_type": "code",
      "execution_count": null,
      "metadata": {},
      "outputs": [],
      "source": [
        "# Revertir una lista:\n",
        "# Este ejercicio consiste en crear una lista y revertir el orden de los elementos de la lista.\n",
        "lista = [1,5,2,7,3,9,10,1]\n",
        "\n"
      ]
    },
    {
      "cell_type": "code",
      "execution_count": null,
      "metadata": {},
      "outputs": [],
      "source": [
        "# Imprimir números del 1 al 10:\n",
        "# Este ejercicio consiste en imprimir los números del 1 al 10 utilizando un bucle while.\n",
        "\n"
      ]
    },
    {
      "cell_type": "code",
      "execution_count": null,
      "metadata": {},
      "outputs": [],
      "source": [
        "# Imprimir la tabla de multiplicar de un número:\n",
        "# Este ejercicio consiste en pedir al usuario que ingrese un número y luego imprimir su tabla de multiplicar del 1 al 10.\n",
        "\n"
      ]
    },
    {
      "cell_type": "code",
      "execution_count": null,
      "metadata": {},
      "outputs": [],
      "source": [
        "# Calcular la suma de los números pares del 1 al 100:\n",
        "# Este ejercicio consiste en calcular la suma de los números pares del 1 al 100 utilizando un bucle for.\n",
        "\n"
      ]
    },
    {
      "cell_type": "code",
      "execution_count": null,
      "metadata": {},
      "outputs": [],
      "source": [
        "# Pedir al usuario que ingrese números hasta que ingrese el número cero:\n",
        "#Este ejercicio consiste en pedir al usuario que ingrese números hasta que ingrese el número cero. \n",
        "# Luego se debe imprimir la suma de todos los números ingresados.\n",
        "\n"
      ]
    },
    {
      "cell_type": "code",
      "execution_count": null,
      "metadata": {},
      "outputs": [],
      "source": [
        "# Imprimir los elementos de una lista:\n",
        "# Este ejercicio consiste en crear una lista de elementos y luego imprimir cada elemento utilizando un bucle for.\n"
      ]
    },
    {
      "cell_type": "code",
      "execution_count": null,
      "metadata": {},
      "outputs": [],
      "source": [
        "# Calcular la media de una lista\n",
        "lista = [1,5,2,7,3,9,10,1]\n",
        "\n"
      ]
    },
    {
      "cell_type": "code",
      "execution_count": null,
      "metadata": {},
      "outputs": [],
      "source": [
        "# Encontrar el valor mínimo de una lista\n",
        "lista = [1,5,2,7,3,9,10,1]\n"
      ]
    },
    {
      "cell_type": "code",
      "execution_count": null,
      "metadata": {},
      "outputs": [],
      "source": [
        "# Ordenar una lista de mayor a menor\n",
        "lista = [1,5,2,7,3,9,10,1]\n",
        "\n"
      ]
    },
    {
      "cell_type": "code",
      "execution_count": null,
      "metadata": {},
      "outputs": [],
      "source": [
        "# Eliminar el elemento '1' de esta lista:\n",
        "lista = [1,5,2,7,3,9,10,1]\n",
        "\n"
      ]
    },
    {
      "cell_type": "code",
      "execution_count": null,
      "metadata": {},
      "outputs": [],
      "source": [
        "# Contar la cantidad de veces que aparece el elemento '1' en la lista:\n",
        "lista = [1,5,2,7,3,9,10,1]\n"
      ]
    }
  ],
  "metadata": {
    "colab": {
      "provenance": []
    },
    "kernelspec": {
      "display_name": "Python 3",
      "language": "python",
      "name": "python3"
    },
    "language_info": {
      "name": "python",
      "version": "3.10.10"
    },
    "vscode": {
      "interpreter": {
        "hash": "d1817bbc25ff2872e78be8c9f49d13aa04c7ec92d2d7b9a87f2970c59a69ae34"
      }
    }
  },
  "nbformat": 4,
  "nbformat_minor": 0
}
