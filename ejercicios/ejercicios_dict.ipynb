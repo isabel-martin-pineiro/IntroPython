{
 "cells": [
  {
   "attachments": {},
   "cell_type": "markdown",
   "metadata": {},
   "source": [
    "# Python 101"
   ]
  },
  {
   "attachments": {},
   "cell_type": "markdown",
   "metadata": {},
   "source": [
    "## Ejercicios de Diccionarios en Python"
   ]
  },
  {
   "cell_type": "code",
   "execution_count": 1,
   "metadata": {},
   "outputs": [
    {
     "name": "stdout",
     "output_type": "stream",
     "text": [
      "{'Mario': 'M', 'Lourdes': 'F', 'Jordi': 'M'}\n"
     ]
    }
   ],
   "source": [
    "# Crear un diccionario con dos claves y valores:\n",
    "# Este ejercicio consiste en crear un diccionario con dos claves y valores y luego imprimir el diccionario.\n",
    "genero = {\"Mario\": \"M\", \"Lourdes\":\"F\", \"Jordi\":\"M\"}\n",
    "print(genero)"
   ]
  },
  {
   "cell_type": "code",
   "execution_count": 2,
   "metadata": {},
   "outputs": [
    {
     "name": "stdout",
     "output_type": "stream",
     "text": [
      "{'Mario': 'M', 'Lourdes': 'F', 'Jordi': 'M', 'Maria': 'F'}\n"
     ]
    }
   ],
   "source": [
    "# Agregar una nueva clave y valor a un diccionario:\n",
    "# Este ejercicio consiste en crear un diccionario y agregar una nueva clave y valor al diccionario.\n",
    "genero[\"Maria\"]=\"F\"\n",
    "print(genero)"
   ]
  },
  {
   "cell_type": "code",
   "execution_count": 10,
   "metadata": {},
   "outputs": [
    {
     "name": "stdout",
     "output_type": "stream",
     "text": [
      "F\n",
      "['blanco', 'rojo', 'azul']\n"
     ]
    }
   ],
   "source": [
    "# Imprimir el valor de una clave en un diccionario:\n",
    "# Este ejercicio consiste en crear un diccionario y luego imprimir el valor de una clave específica.\n",
    "print(genero[\"Maria\"])\n",
    "bandera={\"Cataluña\":[\"rojo\",\"amarillo\",\"rojo\",\"amarillo\"], \"Francia\":[\"blanco\",\"rojo\",\"azul\"]}\n",
    "\n",
    "pregunta = input(f\"Dime un país de Europa: \")\n",
    "if pregunta == \"Cataluña\":\n",
    "    print(bandera[\"Cataluña\"])\n",
    "else:\n",
    "    print(bandera[\"Francia\"])"
   ]
  },
  {
   "cell_type": "code",
   "execution_count": 11,
   "metadata": {},
   "outputs": [
    {
     "name": "stdout",
     "output_type": "stream",
     "text": [
      "['rojo', 'amarillo', 'amarillo']\n"
     ]
    }
   ],
   "source": [
    "# Eliminar una clave y valor de un diccionario:\n",
    "# Este ejercicio consiste en crear un diccionario y eliminar una clave y valor específicos del diccionario.\n",
    "\n",
    "del bandera[\"Cataluña\"][2]\n",
    "print(bandera[\"Cataluña\"])\n",
    "\n"
   ]
  },
  {
   "cell_type": "code",
   "execution_count": 13,
   "metadata": {},
   "outputs": [
    {
     "name": "stdout",
     "output_type": "stream",
     "text": [
      "Mario\n",
      "Lourdes\n",
      "Maria\n"
     ]
    }
   ],
   "source": [
    "# Iterar sobre las claves de un diccionario:\n",
    "# Este ejercicio consiste en crear un diccionario y luego iterar sobre las claves del diccionario e imprimir cada clave.\n",
    "\n",
    "for each in genero:\n",
    "    print(each)"
   ]
  },
  {
   "cell_type": "code",
   "execution_count": 14,
   "metadata": {},
   "outputs": [
    {
     "name": "stdout",
     "output_type": "stream",
     "text": [
      "M\n",
      "F\n",
      "F\n"
     ]
    }
   ],
   "source": [
    "# Iterar sobre los valores de un diccionario:\n",
    "# Este ejercicio consiste en crear un diccionario y luego iterar sobre los valores del diccionario e imprimir cada valor.\n",
    "\n",
    "for each in genero.values():\n",
    "    print(each)"
   ]
  },
  {
   "cell_type": "code",
   "execution_count": 16,
   "metadata": {},
   "outputs": [
    {
     "name": "stdout",
     "output_type": "stream",
     "text": [
      "Mario M\n",
      "Lourdes F\n",
      "Maria F\n"
     ]
    }
   ],
   "source": [
    "# Iterar sobre los elementos de un diccionario:\n",
    "# Este ejercicio consiste en crear un diccionario y luego iterar sobre los elementos del diccionario e imprimir cada elemento.\n",
    "\n",
    "for clave,valor in genero.items():\n",
    "    print(clave,valor)"
   ]
  },
  {
   "cell_type": "code",
   "execution_count": 17,
   "metadata": {},
   "outputs": [
    {
     "name": "stdout",
     "output_type": "stream",
     "text": [
      "{'Mario': 'M', 'Lourdes': 'F', 'Maria': 'F', 'Cataluña': ['rojo', 'amarillo', 'amarillo'], 'Francia': ['blanco', 'rojo', 'azul']}\n"
     ]
    }
   ],
   "source": [
    "# Combinar dos diccionarios:\n",
    "# Este ejercicio consiste en crear dos diccionarios y luego combinarlos en un solo diccionario.\n",
    "genero.update(bandera)\n",
    "\n",
    "print(genero)"
   ]
  },
  {
   "cell_type": "code",
   "execution_count": null,
   "metadata": {},
   "outputs": [],
   "source": [
    "# Contar la cantidad de veces que aparece un elemento en una lista utilizando un diccionario:\n",
    "# Este ejercicio consiste en crear una lista y luego contar la cantidad de veces que aparece cada elemento en la lista utilizando un diccionario.\n",
    "casa = [\"cocina\", \"salón\", \"baño\", \"terraza\", \"dormitorio\",\"baño\", \"terraza\", \"dormitorio\", \"baño\", \"dormitorio\", \"terraza\", \"dormitorio\"]\n",
    "\n",
    "elementos_casa = {}\n",
    "for each in casa:\n",
    "    if each in elementos_casa:\n",
    "        elementos_casa[each] = elementos_casa[each] + 1\n",
    "    else:\n",
    "        elementos_casa[each] = 1\n",
    "print(elementos_casa)"
   ]
  },
  {
   "cell_type": "code",
   "execution_count": null,
   "metadata": {},
   "outputs": [],
   "source": [
    "# Crear un diccionario a partir de dos listas:\n",
    "# Este ejercicio consiste en crear dos listas y luego crear un diccionario utilizando una lista como claves y otra lista como valores."
   ]
  }
 ],
 "metadata": {
  "kernelspec": {
   "display_name": "Python 3",
   "language": "python",
   "name": "python3"
  },
  "language_info": {
   "codemirror_mode": {
    "name": "ipython",
    "version": 3
   },
   "file_extension": ".py",
   "mimetype": "text/x-python",
   "name": "python",
   "nbconvert_exporter": "python",
   "pygments_lexer": "ipython3",
   "version": "3.11.2"
  },
  "orig_nbformat": 4,
  "vscode": {
   "interpreter": {
    "hash": "4f59e5c867a1179c3316fdf7361cff342af53b7b438c3ff6b7f51d251ef83c84"
   }
  }
 },
 "nbformat": 4,
 "nbformat_minor": 2
}
