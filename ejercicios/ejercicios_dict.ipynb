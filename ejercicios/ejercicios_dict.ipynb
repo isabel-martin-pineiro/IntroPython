{
 "cells": [
  {
   "attachments": {},
   "cell_type": "markdown",
   "metadata": {},
   "source": [
    "# Python 101"
   ]
  },
  {
   "attachments": {},
   "cell_type": "markdown",
   "metadata": {},
   "source": [
    "## Ejercicios de Diccionarios en Python"
   ]
  },
  {
   "cell_type": "code",
   "execution_count": null,
   "metadata": {},
   "outputs": [],
   "source": [
    "# Crear un diccionario con dos claves y valores:\n",
    "# Este ejercicio consiste en crear un diccionario con dos claves y valores y luego imprimir el diccionario.\n"
   ]
  },
  {
   "cell_type": "code",
   "execution_count": null,
   "metadata": {},
   "outputs": [],
   "source": [
    "# Agregar una nueva clave y valor a un diccionario:\n",
    "# Este ejercicio consiste en crear un diccionario y agregar una nueva clave y valor al diccionario."
   ]
  },
  {
   "cell_type": "code",
   "execution_count": null,
   "metadata": {},
   "outputs": [],
   "source": [
    "# Imprimir el valor de una clave en un diccionario:\n",
    "# Este ejercicio consiste en crear un diccionario y luego imprimir el valor de una clave específica."
   ]
  },
  {
   "cell_type": "code",
   "execution_count": null,
   "metadata": {},
   "outputs": [],
   "source": [
    "# Eliminar una clave y valor de un diccionario:\n",
    "# Este ejercicio consiste en crear un diccionario y eliminar una clave y valor específicos del diccionario."
   ]
  },
  {
   "cell_type": "code",
   "execution_count": null,
   "metadata": {},
   "outputs": [],
   "source": [
    "# Iterar sobre las claves de un diccionario:\n",
    "# Este ejercicio consiste en crear un diccionario y luego iterar sobre las claves del diccionario e imprimir cada clave."
   ]
  },
  {
   "cell_type": "code",
   "execution_count": null,
   "metadata": {},
   "outputs": [],
   "source": [
    "# Iterar sobre los valores de un diccionario:\n",
    "# Este ejercicio consiste en crear un diccionario y luego iterar sobre los valores del diccionario e imprimir cada valor."
   ]
  },
  {
   "cell_type": "code",
   "execution_count": null,
   "metadata": {},
   "outputs": [],
   "source": [
    "# Iterar sobre los elementos de un diccionario:\n",
    "# Este ejercicio consiste en crear un diccionario y luego iterar sobre los elementos del diccionario e imprimir cada elemento."
   ]
  },
  {
   "cell_type": "code",
   "execution_count": null,
   "metadata": {},
   "outputs": [],
   "source": [
    "# Combinar dos diccionarios:\n",
    "# Este ejercicio consiste en crear dos diccionarios y luego combinarlos en un solo diccionario."
   ]
  },
  {
   "cell_type": "code",
   "execution_count": null,
   "metadata": {},
   "outputs": [],
   "source": [
    "# Contar la cantidad de veces que aparece un elemento en una lista utilizando un diccionario:\n",
    "# Este ejercicio consiste en crear una lista y luego contar la cantidad de veces que aparece cada elemento en la lista utilizando un diccionario."
   ]
  },
  {
   "cell_type": "code",
   "execution_count": null,
   "metadata": {},
   "outputs": [],
   "source": [
    "# Crear un diccionario a partir de dos listas:\n",
    "# Este ejercicio consiste en crear dos listas y luego crear un diccionario utilizando una lista como claves y otra lista como valores."
   ]
  }
 ],
 "metadata": {
  "language_info": {
   "name": "python"
  },
  "orig_nbformat": 4
 },
 "nbformat": 4,
 "nbformat_minor": 2
}
