{
  "nbformat": 4,
  "nbformat_minor": 0,
  "metadata": {
    "colab": {
      "provenance": []
    },
    "kernelspec": {
      "name": "python3",
      "display_name": "Python 3"
    },
    "language_info": {
      "name": "python"
    }
  },
  "cells": [
    {
      "cell_type": "markdown",
      "source": [
        "#**Ejercicios de Condicionales**\n",
        "##9-02-2023"
      ],
      "metadata": {
        "id": "iwlr-a6C8Rw0"
      }
    },
    {
      "cell_type": "code",
      "source": [
        "#Ejercicio 1 Escribir un programa que pregunte al usuario su edad y muestre por\n",
        "# pantalla si es mayor de edad o no.\n",
        "\n",
        "edad = int(input('¿Cuántos años tienes?: '))\n",
        "if edad >= 18:\n",
        "  print('Eres mayor de edad')\n",
        "else:\n",
        "  print('Eres menor de edad')"
      ],
      "metadata": {
        "id": "PC_GsErw8ZYW",
        "colab": {
          "base_uri": "https://localhost:8080/"
        },
        "outputId": "c4393594-3abc-4f17-8fa8-6782bc13f7e1"
      },
      "execution_count": null,
      "outputs": [
        {
          "output_type": "stream",
          "name": "stdout",
          "text": [
            "¿Cuántos años tienes?: 19\n",
            "Eres mayor de edad\n"
          ]
        }
      ]
    },
    {
      "cell_type": "code",
      "source": [
        "#Ejercicio 2 Escribir un programa que almacene la cadena de caracteres \n",
        "#contraseña en una variable, pregunte al usuario por la contraseña e imprima por\n",
        "#pantalla si la contraseña introducida por el usuario coincide con la guardada \n",
        "#en la variable sin tener en cuenta mayúsculas y minúsculas.\n",
        "contraseña = str(input('Guarda tu contraseña: '))\n",
        "contraseña2 = str(input('Escribe tu contraseña: '))\n",
        "if contraseña.lower() == contraseña2.lower():\n",
        "  print(contraseña)"
      ],
      "metadata": {
        "id": "m1vHjx9P8mgK",
        "colab": {
          "base_uri": "https://localhost:8080/"
        },
        "outputId": "1496cb09-a589-42a3-e066-e2dea59c3959"
      },
      "execution_count": null,
      "outputs": [
        {
          "output_type": "stream",
          "name": "stdout",
          "text": [
            "Guarda tu contraseña: A\n",
            "Escribe tu contraseña: a\n",
            "A\n"
          ]
        }
      ]
    },
    {
      "cell_type": "code",
      "source": [
        "#Ejercicio 3 Escribir un programa que pida al usuario dos números y muestre por \n",
        "#pantalla su división. Si el divisor es cero el programa debe mostrar un error. #NO SALE\n",
        "numero1 = int(input('Dame un número: '))\n",
        "numero2 = int(input('Dame otro número: '))\n",
        "if numero2 == 0:\n",
        "  print('error')\n",
        "else:\n",
        "  division = numero1/numero2\n",
        "  print(division)\n"
      ],
      "metadata": {
        "id": "or0058wC8yWk",
        "colab": {
          "base_uri": "https://localhost:8080/"
        },
        "outputId": "35e3d9c0-7de0-4be2-a026-00a44989b849"
      },
      "execution_count": null,
      "outputs": [
        {
          "output_type": "stream",
          "name": "stdout",
          "text": [
            "Dame un número: 9\n",
            "Dame otro número: 0\n",
            "error\n"
          ]
        }
      ]
    },
    {
      "cell_type": "code",
      "source": [
        "#Ejercicio 4 Escribir un programa que pida al usuario un número entero y muestre\n",
        "#por pantalla si es par o impar.\n",
        "\n",
        "entero = int(input('Dame un número entero: '))\n",
        "if entero%2==0:\n",
        "  print('par')\n",
        "else:\n",
        "  print('impar')"
      ],
      "metadata": {
        "id": "pTrPLmvf8_JE",
        "colab": {
          "base_uri": "https://localhost:8080/"
        },
        "outputId": "04058306-7659-44db-d4e8-cae41946a0c4"
      },
      "execution_count": null,
      "outputs": [
        {
          "output_type": "stream",
          "name": "stdout",
          "text": [
            "Dame un número entero: 9\n",
            "impar\n"
          ]
        }
      ]
    },
    {
      "cell_type": "code",
      "source": [
        "#Ejercicio 5 Para tributar un determinado impuesto se debe ser mayor de 16 años \n",
        "#y tener unos ingresos iguales o superiores a 1000 € mensuales. Escribir un \n",
        "#programa que pregunte al usuario su edad y sus ingresos mensuales y muestre por\n",
        "#pantalla si el usuario tiene que tributar o no.\n",
        "\n",
        "edad = int(input('¿Qué edad tienes?: '))\n",
        "ingresos = int(input('¿Cuáles son tus ingresos mensuales?: '))\n",
        "\n",
        "if edad>=16 and ingresos>=1000:\n",
        "  print('Tributas')\n",
        "else:\n",
        "  print('No tributas')"
      ],
      "metadata": {
        "id": "Hh12A7Hy9Lkq",
        "colab": {
          "base_uri": "https://localhost:8080/"
        },
        "outputId": "1b6f09df-a36d-4434-c2e0-8c4313bc0b79"
      },
      "execution_count": null,
      "outputs": [
        {
          "output_type": "stream",
          "name": "stdout",
          "text": [
            "¿Qué edad tienes?: 18\n",
            "¿Cuáles son tus ingresos mensuales?: 900\n",
            "No tributas\n"
          ]
        }
      ]
    },
    {
      "cell_type": "code",
      "source": [
        "#Ejercicio 6 Los alumnos de un curso se han dividido en dos grupos A y B de \n",
        "#acuerdo al sexo y el nombre. El grupo A esta formado por las mujeres con un \n",
        "#nombre anterior a la M y los hombres con un nombre posterior a la N y el grupo\n",
        "# B por el resto. Escribir un programa que pregunte al usuario su nombre y sexo,\n",
        "# y muestre por pantalla el grupo que le corresponde. \n",
        "#NO SALE\n",
        "\n",
        "sexo = input('Dame una M si eres hombre y una F si eres mujer: ').lower()\n",
        "nombre = input('¿Cómo te llamas?: ').lower()\n",
        "if sexo== \"F\":\n",
        "  if nombre < 'm':\n",
        "    print('Perteneces al grupo A')\n",
        "  else:\n",
        "    print('Perteneces al grupo B')\n",
        "\n",
        "else:\n",
        "  if nombre > 'n':\n",
        "    print('Perteneces al grupo A')\n",
        "  else:\n",
        "    print('Perteneces al grupo B')\n",
        "\n",
        "#TRATAR DE RESOLVERLO CON IF Y ELIF (12.2.2023)\n",
        "  "
      ],
      "metadata": {
        "id": "xcUl1moa9dPq",
        "colab": {
          "base_uri": "https://localhost:8080/"
        },
        "outputId": "41089c33-89af-4037-c8ff-7897dfef520f"
      },
      "execution_count": null,
      "outputs": [
        {
          "output_type": "stream",
          "name": "stdout",
          "text": [
            "Dame una M si eres hombre y una F si eres mujer: F\n",
            "¿Cómo te llamas?: Ana\n",
            "Perteneces al grupo B\n"
          ]
        }
      ]
    },
    {
      "cell_type": "code",
      "source": [
        "'m' < 'm' \n",
        "\n"
      ],
      "metadata": {
        "colab": {
          "base_uri": "https://localhost:8080/"
        },
        "id": "T0I9rrrxVvYD",
        "outputId": "02ab68c0-1618-4b38-e49d-dab921b65dad"
      },
      "execution_count": null,
      "outputs": [
        {
          "output_type": "execute_result",
          "data": {
            "text/plain": [
              "False"
            ]
          },
          "metadata": {},
          "execution_count": 32
        }
      ]
    },
    {
      "cell_type": "code",
      "source": [
        "#Los tramos impositivos para la declaración de la renta en un determinado país son los siguientes:\n",
        "\n",
        "#Renta\tTipo impositivo\n",
        "#Menos de 10000€\t5%\n",
        "#Entre 10000€ y 20000€\t15%\n",
        "#Entre 20000€ y 35000€\t20%\n",
        "#Entre 35000€ y 60000€\t30%\n",
        "#Más de 60000€\t45%\n",
        "#Escribir un programa que pregunte al usuario su renta anual y muestre por pantalla el tipo impositivo que le corresponde.\n",
        "renta = int(input('¿Cuál es tu renta anual?: '))\n",
        "if renta < 10000:\n",
        "  print('tipo impositivo: 5%')\n",
        "elif renta < 20000:\n",
        "  print('tipo impositivo: 15%')\n",
        "elif renta < 35000:\n",
        "  print('tipo impositivo: 20%')\n",
        "elif renta < 60000:\n",
        "  print('tipo impositivo: 30%')\n",
        "else:\n",
        "  print('tipo impositivo: 45%')\n",
        "\n"
      ],
      "metadata": {
        "colab": {
          "base_uri": "https://localhost:8080/"
        },
        "id": "s3T0wiV1qGj5",
        "outputId": "08df8f23-8b61-4338-bdb7-4e2a2a453149"
      },
      "execution_count": null,
      "outputs": [
        {
          "output_type": "stream",
          "name": "stdout",
          "text": [
            "¿Cuál es tu renta anual?: 75000\n",
            "tipo impositivo: 45%\n"
          ]
        }
      ]
    },
    {
      "cell_type": "code",
      "source": [
        "#En una determinada empresa, sus empleados son evaluados al final de cada año. \n",
        "#Los puntos que pueden obtener en la evaluación comienzan en 0.0 y pueden ir \n",
        "#aumentando, traduciéndose en mejores beneficios. Los puntos que pueden conseguir \n",
        "#los empleados pueden ser 0.0, 0.4, 0.6 o más, pero no valores intermedios entre \n",
        "#las cifras mencionadas. A continuación se muestra una tabla con los niveles \n",
        "#correspondientes a cada puntuación. La cantidad de dinero conseguida en cada \n",
        "#nivel es de 2.400€ multiplicada por la puntuación del nivel.\n",
        "\n",
        "#Nivel Puntuación\n",
        "#Inaceptable\t0.0\n",
        "#Aceptable\t0.4\n",
        "#Meritorio\t0.6 o más\n",
        "#Escribir un programa que lea la puntuación del usuario e indique su nivel de rendimiento, así como la cantidad de dinero que recibirá el usuario.\n",
        "\n",
        "puntuacion = float(input('¿Cuál ha sido tu puntuación?: '))\n",
        "bonus = puntuacion*2400\n",
        "if puntuacion == 0:\n",
        "  nivel = 'inaceptable'\n",
        "  #print('Rendimiento:', nivel, ', bonus:', bonus) #ESTO SE HA DE PONER TRES \n",
        "  #VECES, NO BASTA CON QUE SE PONGA AL FINAL. ARREGLADO. EL PRINT A DE TENER UN RANGO QUE ABARQUE TODO\n",
        "elif puntuacion == 0.4:\n",
        "  nivel = 'aceptable'\n",
        "  #print('Rendimiento:', nivel, ', bonus:', bonus)\n",
        "elif puntuacion >= 0.6:\n",
        "  nivel = 'meritorio'\n",
        "\n",
        "print('Rendimiento:', nivel, ', bonus:', bonus)\n",
        "  \n"
      ],
      "metadata": {
        "colab": {
          "base_uri": "https://localhost:8080/"
        },
        "id": "MqPY6rjzr4NZ",
        "outputId": "3e5facae-c2f4-477c-cffc-f2e4298d71eb"
      },
      "execution_count": null,
      "outputs": [
        {
          "output_type": "stream",
          "name": "stdout",
          "text": [
            "¿Cuál ha sido tu puntuación?: 0\n",
            "Rendimiento: inaceptable , bonus: 0.0\n"
          ]
        }
      ]
    },
    {
      "cell_type": "code",
      "source": [
        "#Escribir un programa para una empresa que tiene parques acuáticos para todas las \n",
        "#edades y quiere calcular de forma automática el precio que debe cobrar a sus \n",
        "#clientes por entrar. El programa debe preguntar al usuario la edad del cliente \n",
        "#y mostrar el precio de la entrada. Si el cliente es menor de 4 años puede \n",
        "#entrar gratis, si tiene entre 4 y 18 años debe pagar 5€ y si es mayor de 18 años, 10€.\n",
        "\n",
        "edad = int(input('Edad: '))\n",
        "if edad < 4:\n",
        "  print(\"Gratis\")\n",
        "elif edad < 18:\n",
        "  print(\"5 Euros\")\n",
        "else:\n",
        "  print(\"10 euros\")"
      ],
      "metadata": {
        "colab": {
          "base_uri": "https://localhost:8080/"
        },
        "id": "Lm6tia500EZO",
        "outputId": "e688cdcb-37c5-44af-b5d7-a4cd3744a15a"
      },
      "execution_count": null,
      "outputs": [
        {
          "output_type": "stream",
          "name": "stdout",
          "text": [
            "Edad: 20\n",
            "10 euros\n"
          ]
        }
      ]
    },
    {
      "cell_type": "code",
      "source": [
        "#La pizzería Bella Napoli ofrece pizzas vegetarianas y no vegetarianas a sus \n",
        "#clientes. Los ingredientes para cada tipo de pizza aparecen a continuación.\n",
        "\n",
        "#Ingredientes vegetarianos: Pimiento y tofu.\n",
        "#Ingredientes no vegetarianos: Peperoni, Jamón y Salmón.\n",
        "#Escribir un programa que pregunte al usuario si quiere una pizza vegetariana o \n",
        "#no, y en función de su respuesta le muestre un menú con los ingredientes \n",
        "#disponibles para que elija. Solo se puede eligir un ingrediente además de la \n",
        "#mozzarella y el tomate que están en todas la pizzas. Al final se debe mostrar \n",
        "#por pantalla si la pizza elegida es vegetariana o no y todos los ingredientes que lleva.\n",
        "\n",
        "vegetariana = 'pimiento, tofu'\n",
        "no_vegetariana= 'peperoni, Jamón, Salmón'\n",
        "tipo_pizza = input('¿Pizza vegetariana o no vegetariana?: ').lower()\n",
        "if tipo_pizza == 'vegetariana':\n",
        "  ingrediente = input(f\"elige 1 ingrediente: {vegetariana}: \")\n",
        "  ingrediente_1= 'pimiento'\n",
        "  if ingrediente == ingrediente_1:\n",
        "    print(f\"vegetariana con {ingrediente_1}\")\n",
        "  else:\n",
        "    ingrediente_1 = 'tofu'\n",
        "    print(f\"vegetariana con {ingrediente_1}\")\n",
        "else:\n",
        "  ingrediente = input(f\"elige 1 ingrediente: {no_vegetariana}: \")\n",
        "\n",
        "  if ingrediente == 'peperoni':\n",
        "    print(f\"no vegetariana con {ingrediente}\")\n",
        "  elif ingrediente == 'jamón':\n",
        "    print(f\"no vegetariana con {ingrediente}\")\n",
        "  elif ingrediente == 'salmón':\n",
        "    print(f\"no vegetariana con {ingrediente}\")\n",
        "  else:\n",
        "    print(f'ingrediente no correcto')\n",
        "\n",
        "#QUITAR TEXTO E IFs MÁS ESTRICTOS"
      ],
      "metadata": {
        "colab": {
          "base_uri": "https://localhost:8080/",
          "height": 398
        },
        "id": "Bg3rsdjr2Rxi",
        "outputId": "73db2d18-dd90-4c2f-c3aa-c70b094a96db"
      },
      "execution_count": null,
      "outputs": [
        {
          "name": "stdout",
          "output_type": "stream",
          "text": [
            "¿Pizza vegetariana o no vegetariana?: cualquiera\n"
          ]
        },
        {
          "output_type": "error",
          "ename": "KeyboardInterrupt",
          "evalue": "ignored",
          "traceback": [
            "\u001b[0;31m---------------------------------------------------------------------------\u001b[0m",
            "\u001b[0;31mKeyboardInterrupt\u001b[0m                         Traceback (most recent call last)",
            "\u001b[0;32m<ipython-input-44-886373d2b744>\u001b[0m in \u001b[0;36m<module>\u001b[0;34m\u001b[0m\n\u001b[1;32m     22\u001b[0m     \u001b[0mprint\u001b[0m\u001b[0;34m(\u001b[0m\u001b[0;34mf\"vegetariana con {ingrediente_1}\"\u001b[0m\u001b[0;34m)\u001b[0m\u001b[0;34m\u001b[0m\u001b[0;34m\u001b[0m\u001b[0m\n\u001b[1;32m     23\u001b[0m \u001b[0;32melse\u001b[0m\u001b[0;34m:\u001b[0m\u001b[0;34m\u001b[0m\u001b[0;34m\u001b[0m\u001b[0m\n\u001b[0;32m---> 24\u001b[0;31m   \u001b[0mingrediente\u001b[0m \u001b[0;34m=\u001b[0m \u001b[0minput\u001b[0m\u001b[0;34m(\u001b[0m\u001b[0;34mf\"elige 1 ingrediente: {no_vegetariana}: \"\u001b[0m\u001b[0;34m)\u001b[0m\u001b[0;34m\u001b[0m\u001b[0;34m\u001b[0m\u001b[0m\n\u001b[0m\u001b[1;32m     25\u001b[0m \u001b[0;34m\u001b[0m\u001b[0m\n\u001b[1;32m     26\u001b[0m   \u001b[0;32mif\u001b[0m \u001b[0mingrediente\u001b[0m \u001b[0;34m==\u001b[0m \u001b[0;34m'peperoni'\u001b[0m\u001b[0;34m:\u001b[0m\u001b[0;34m\u001b[0m\u001b[0;34m\u001b[0m\u001b[0m\n",
            "\u001b[0;32m/usr/local/lib/python3.8/dist-packages/ipykernel/kernelbase.py\u001b[0m in \u001b[0;36mraw_input\u001b[0;34m(self, prompt)\u001b[0m\n\u001b[1;32m    858\u001b[0m                 \u001b[0;34m\"raw_input was called, but this frontend does not support input requests.\"\u001b[0m\u001b[0;34m\u001b[0m\u001b[0;34m\u001b[0m\u001b[0m\n\u001b[1;32m    859\u001b[0m             )\n\u001b[0;32m--> 860\u001b[0;31m         return self._input_request(str(prompt),\n\u001b[0m\u001b[1;32m    861\u001b[0m             \u001b[0mself\u001b[0m\u001b[0;34m.\u001b[0m\u001b[0m_parent_ident\u001b[0m\u001b[0;34m,\u001b[0m\u001b[0;34m\u001b[0m\u001b[0;34m\u001b[0m\u001b[0m\n\u001b[1;32m    862\u001b[0m             \u001b[0mself\u001b[0m\u001b[0;34m.\u001b[0m\u001b[0m_parent_header\u001b[0m\u001b[0;34m,\u001b[0m\u001b[0;34m\u001b[0m\u001b[0;34m\u001b[0m\u001b[0m\n",
            "\u001b[0;32m/usr/local/lib/python3.8/dist-packages/ipykernel/kernelbase.py\u001b[0m in \u001b[0;36m_input_request\u001b[0;34m(self, prompt, ident, parent, password)\u001b[0m\n\u001b[1;32m    902\u001b[0m             \u001b[0;32mexcept\u001b[0m \u001b[0mKeyboardInterrupt\u001b[0m\u001b[0;34m:\u001b[0m\u001b[0;34m\u001b[0m\u001b[0;34m\u001b[0m\u001b[0m\n\u001b[1;32m    903\u001b[0m                 \u001b[0;31m# re-raise KeyboardInterrupt, to truncate traceback\u001b[0m\u001b[0;34m\u001b[0m\u001b[0;34m\u001b[0m\u001b[0;34m\u001b[0m\u001b[0m\n\u001b[0;32m--> 904\u001b[0;31m                 \u001b[0;32mraise\u001b[0m \u001b[0mKeyboardInterrupt\u001b[0m\u001b[0;34m(\u001b[0m\u001b[0;34m\"Interrupted by user\"\u001b[0m\u001b[0;34m)\u001b[0m \u001b[0;32mfrom\u001b[0m \u001b[0;32mNone\u001b[0m\u001b[0;34m\u001b[0m\u001b[0;34m\u001b[0m\u001b[0m\n\u001b[0m\u001b[1;32m    905\u001b[0m             \u001b[0;32mexcept\u001b[0m \u001b[0mException\u001b[0m \u001b[0;32mas\u001b[0m \u001b[0me\u001b[0m\u001b[0;34m:\u001b[0m\u001b[0;34m\u001b[0m\u001b[0;34m\u001b[0m\u001b[0m\n\u001b[1;32m    906\u001b[0m                 \u001b[0mself\u001b[0m\u001b[0;34m.\u001b[0m\u001b[0mlog\u001b[0m\u001b[0;34m.\u001b[0m\u001b[0mwarning\u001b[0m\u001b[0;34m(\u001b[0m\u001b[0;34m\"Invalid Message:\"\u001b[0m\u001b[0;34m,\u001b[0m \u001b[0mexc_info\u001b[0m\u001b[0;34m=\u001b[0m\u001b[0;32mTrue\u001b[0m\u001b[0;34m)\u001b[0m\u001b[0;34m\u001b[0m\u001b[0;34m\u001b[0m\u001b[0m\n",
            "\u001b[0;31mKeyboardInterrupt\u001b[0m: Interrupted by user"
          ]
        }
      ]
    },
    {
      "cell_type": "markdown",
      "source": [
        "#**Ejercicios de Cadenas**\n",
        "##9-02-2023\n",
        "\n",
        "\n",
        "\n",
        "\n",
        "\n"
      ],
      "metadata": {
        "id": "MaPxIt--lmG2"
      }
    },
    {
      "cell_type": "code",
      "source": [
        "#Ejercicio 1 Escribir un programa que pregunte el nombre del usuario en la consola y un \n",
        "#número entero e imprima por pantalla en líneas distintas el nombre del usuario \n",
        "#tantas veces como el número introducido.\n"
      ],
      "metadata": {
        "colab": {
          "base_uri": "https://localhost:8080/"
        },
        "id": "RdJdFDxVw_8y",
        "outputId": "6f0204df-34dc-4dca-ae54-321977923083"
      },
      "execution_count": null,
      "outputs": [
        {
          "output_type": "stream",
          "name": "stdout",
          "text": [
            "¡Hola mundo!\n"
          ]
        }
      ]
    },
    {
      "cell_type": "code",
      "source": [
        "#Ejercicio 2 Escribir un programa que pregunte el nombre completo del usuario en\n",
        "# la consola y después muestre por pantalla el nombre completo del usuario tres \n",
        "#veces, una con todas las letras minúsculas, otra con todas las letras mayúsculas\n",
        "# y otra solo con la primera letra del nombre y de los apellidos en mayúscula. \n",
        "#El usuario puede introducir su nombre combinando mayúsculas y minúsculas como quiera.\n",
        "nombre = input('¿Cómo te llamas?: ')\n",
        "print(nombre.lower())\n",
        "print(nombre.upper())\n",
        "print(nombre.capitalize())"
      ],
      "metadata": {
        "colab": {
          "base_uri": "https://localhost:8080/"
        },
        "id": "TaSuTchWx6Xe",
        "outputId": "c6dfd1cf-fa95-4f94-de0c-72bba179d4c6"
      },
      "execution_count": null,
      "outputs": [
        {
          "output_type": "stream",
          "name": "stdout",
          "text": [
            "¿Cómo te llamas?: mArTa\n",
            "marta\n",
            "MARTA\n",
            "Marta\n"
          ]
        }
      ]
    },
    {
      "cell_type": "code",
      "source": [
        "#Ejercicio 3 Escribir un programa que pregunte el nombre del usuario en la \n",
        "#consola y después de que el usuario lo introduzca muestre por pantalla <NOMBRE>\n",
        "# tiene <n> letras, donde <NOMBRE> es el nombre de usuario en mayúsculas y <n> \n",
        "#es el número de letras que tienen el nombre.\n",
        "nombre = input('¿Cómo te llamas?: ')\n",
        "print(f\"{nombre.upper()} tiene {len(nombre)} letras\")\n"
      ],
      "metadata": {
        "colab": {
          "base_uri": "https://localhost:8080/"
        },
        "id": "PIE1zmGzx7Fi",
        "outputId": "dc7d66c5-bff7-46d3-e830-225bed52b2d3"
      },
      "execution_count": null,
      "outputs": [
        {
          "output_type": "stream",
          "name": "stdout",
          "text": [
            "¿Cómo te llamas?: Elisabet\n",
            "ELISABET tiene 8 letras\n"
          ]
        }
      ]
    },
    {
      "cell_type": "code",
      "source": [
        "#Pedimos dos nombres y muestra \"El nombre más largo es x, que tiene x letras\"\n",
        "nombre_1 = input('Dame un nombre: ')\n",
        "nombre_2 = input('Dame otro nombre: ')\n",
        "if len(nombre_1) > len(nombre_2):\n",
        "  print(f\"{nombre_1} es más largo que {nombre_2} y tiene {len(nombre_1)} letras.\")\n",
        "else: \n",
        "  print(f\"{nombre_2} es más largo que {nombre_1} y tiene {len(nombre_2)} letras.\")"
      ],
      "metadata": {
        "colab": {
          "base_uri": "https://localhost:8080/",
          "height": 381
        },
        "id": "LIL7UgCEeh5z",
        "outputId": "e5c00806-0cfd-4855-b012-31f86a693cc4"
      },
      "execution_count": null,
      "outputs": [
        {
          "output_type": "error",
          "ename": "KeyboardInterrupt",
          "evalue": "ignored",
          "traceback": [
            "\u001b[0;31m---------------------------------------------------------------------------\u001b[0m",
            "\u001b[0;31mKeyboardInterrupt\u001b[0m                         Traceback (most recent call last)",
            "\u001b[0;32m<ipython-input-51-9687c55cfb4d>\u001b[0m in \u001b[0;36m<module>\u001b[0;34m\u001b[0m\n\u001b[1;32m      1\u001b[0m \u001b[0;31m#Pedimos dos nombres y muestra \"El nombre más largo es x, que tiene x letras\"\u001b[0m\u001b[0;34m\u001b[0m\u001b[0;34m\u001b[0m\u001b[0;34m\u001b[0m\u001b[0m\n\u001b[0;32m----> 2\u001b[0;31m \u001b[0mnombre_1\u001b[0m \u001b[0;34m=\u001b[0m \u001b[0minput\u001b[0m\u001b[0;34m(\u001b[0m\u001b[0;34m'Dame un nombre: '\u001b[0m\u001b[0;34m)\u001b[0m\u001b[0;34m\u001b[0m\u001b[0;34m\u001b[0m\u001b[0m\n\u001b[0m\u001b[1;32m      3\u001b[0m \u001b[0mnombre_2\u001b[0m \u001b[0;34m=\u001b[0m \u001b[0minput\u001b[0m\u001b[0;34m(\u001b[0m\u001b[0;34m'Dame otro nombre: '\u001b[0m\u001b[0;34m)\u001b[0m\u001b[0;34m\u001b[0m\u001b[0;34m\u001b[0m\u001b[0m\n\u001b[1;32m      4\u001b[0m \u001b[0;32mif\u001b[0m \u001b[0mlen\u001b[0m\u001b[0;34m(\u001b[0m\u001b[0mnombre_1\u001b[0m\u001b[0;34m)\u001b[0m \u001b[0;34m>\u001b[0m \u001b[0mlen\u001b[0m\u001b[0;34m(\u001b[0m\u001b[0mnombre_2\u001b[0m\u001b[0;34m)\u001b[0m\u001b[0;34m:\u001b[0m\u001b[0;34m\u001b[0m\u001b[0;34m\u001b[0m\u001b[0m\n\u001b[1;32m      5\u001b[0m   \u001b[0mprint\u001b[0m\u001b[0;34m(\u001b[0m\u001b[0;34mf\"{nombre_1} es más largo que {nombre_2} y tiene {len(nombre_1)} letras.\"\u001b[0m\u001b[0;34m)\u001b[0m\u001b[0;34m\u001b[0m\u001b[0;34m\u001b[0m\u001b[0m\n",
            "\u001b[0;32m/usr/local/lib/python3.8/dist-packages/ipykernel/kernelbase.py\u001b[0m in \u001b[0;36mraw_input\u001b[0;34m(self, prompt)\u001b[0m\n\u001b[1;32m    858\u001b[0m                 \u001b[0;34m\"raw_input was called, but this frontend does not support input requests.\"\u001b[0m\u001b[0;34m\u001b[0m\u001b[0;34m\u001b[0m\u001b[0m\n\u001b[1;32m    859\u001b[0m             )\n\u001b[0;32m--> 860\u001b[0;31m         return self._input_request(str(prompt),\n\u001b[0m\u001b[1;32m    861\u001b[0m             \u001b[0mself\u001b[0m\u001b[0;34m.\u001b[0m\u001b[0m_parent_ident\u001b[0m\u001b[0;34m,\u001b[0m\u001b[0;34m\u001b[0m\u001b[0;34m\u001b[0m\u001b[0m\n\u001b[1;32m    862\u001b[0m             \u001b[0mself\u001b[0m\u001b[0;34m.\u001b[0m\u001b[0m_parent_header\u001b[0m\u001b[0;34m,\u001b[0m\u001b[0;34m\u001b[0m\u001b[0;34m\u001b[0m\u001b[0m\n",
            "\u001b[0;32m/usr/local/lib/python3.8/dist-packages/ipykernel/kernelbase.py\u001b[0m in \u001b[0;36m_input_request\u001b[0;34m(self, prompt, ident, parent, password)\u001b[0m\n\u001b[1;32m    902\u001b[0m             \u001b[0;32mexcept\u001b[0m \u001b[0mKeyboardInterrupt\u001b[0m\u001b[0;34m:\u001b[0m\u001b[0;34m\u001b[0m\u001b[0;34m\u001b[0m\u001b[0m\n\u001b[1;32m    903\u001b[0m                 \u001b[0;31m# re-raise KeyboardInterrupt, to truncate traceback\u001b[0m\u001b[0;34m\u001b[0m\u001b[0;34m\u001b[0m\u001b[0;34m\u001b[0m\u001b[0m\n\u001b[0;32m--> 904\u001b[0;31m                 \u001b[0;32mraise\u001b[0m \u001b[0mKeyboardInterrupt\u001b[0m\u001b[0;34m(\u001b[0m\u001b[0;34m\"Interrupted by user\"\u001b[0m\u001b[0;34m)\u001b[0m \u001b[0;32mfrom\u001b[0m \u001b[0;32mNone\u001b[0m\u001b[0;34m\u001b[0m\u001b[0;34m\u001b[0m\u001b[0m\n\u001b[0m\u001b[1;32m    905\u001b[0m             \u001b[0;32mexcept\u001b[0m \u001b[0mException\u001b[0m \u001b[0;32mas\u001b[0m \u001b[0me\u001b[0m\u001b[0;34m:\u001b[0m\u001b[0;34m\u001b[0m\u001b[0;34m\u001b[0m\u001b[0m\n\u001b[1;32m    906\u001b[0m                 \u001b[0mself\u001b[0m\u001b[0;34m.\u001b[0m\u001b[0mlog\u001b[0m\u001b[0;34m.\u001b[0m\u001b[0mwarning\u001b[0m\u001b[0;34m(\u001b[0m\u001b[0;34m\"Invalid Message:\"\u001b[0m\u001b[0;34m,\u001b[0m \u001b[0mexc_info\u001b[0m\u001b[0;34m=\u001b[0m\u001b[0;32mTrue\u001b[0m\u001b[0;34m)\u001b[0m\u001b[0;34m\u001b[0m\u001b[0;34m\u001b[0m\u001b[0m\n",
            "\u001b[0;31mKeyboardInterrupt\u001b[0m: Interrupted by user"
          ]
        }
      ]
    },
    {
      "cell_type": "code",
      "source": [
        "#Una cadena cualquiera y un número. La cadena tiene más caracteres que el número,\n",
        "#la cadena tiene menos caracteres que el número o la cadena tiene los mismos \n",
        "#caracteres que el número\n",
        "cadena = input(\"Dame una palabra cualquiera: \")\n",
        "número = int(input(\"Dame un número cualquiera: \"))\n",
        "\n",
        "if len(cadena) > número:\n",
        "  print(f\"La cadena tiene más caracteres que el número\")\n",
        "elif len(cadena) < número:\n",
        "  print(f\"La cadena tiene menos caracteres que el número\")\n",
        "else:\n",
        "  print(f\"La cadena y el número tienen los mismos caracteres\")\n",
        "\n"
      ],
      "metadata": {
        "colab": {
          "base_uri": "https://localhost:8080/"
        },
        "id": "RNgrTZ2vfvBa",
        "outputId": "c1129258-d567-40c8-8624-b8a897183aba"
      },
      "execution_count": null,
      "outputs": [
        {
          "output_type": "stream",
          "name": "stdout",
          "text": [
            "Dame una palabra cualquiera: Patata\n",
            "Dame un número cualquiera: 20\n",
            "La cadena tiene menos caracteres que el número\n"
          ]
        }
      ]
    },
    {
      "cell_type": "code",
      "source": [
        "#Pedir una cadena y comprobar si el primer y el último caracter son iguales\n",
        "\n",
        "cadena = input(\"Dame una palabra cualquiera: \")\n",
        "if cadena[0] == cadena[-1]:\n",
        "  print(f\"Los caracteres primero y último son iguales\")\n",
        "else:\n",
        "  print(f\"Los caracteres primero y último no son iguales\")\n",
        " "
      ],
      "metadata": {
        "colab": {
          "base_uri": "https://localhost:8080/"
        },
        "id": "4fOtE95ihH4h",
        "outputId": "40b6cace-8a68-4a1e-bf49-c4110fc30e2e"
      },
      "execution_count": null,
      "outputs": [
        {
          "output_type": "stream",
          "name": "stdout",
          "text": [
            "Dame una palabra cualquiera: ama\n",
            "Los caracteres primero y último son iguales\n"
          ]
        }
      ]
    },
    {
      "cell_type": "code",
      "source": [
        "#Comprobar si una palabra es un palíndromo.\n",
        "cadena = input(\"Dame una palabra cualquiera: \")\n",
        "if (cadena[::-1]).lower() == (cadena).lower():\n",
        "  print(\"La palabra es un palíndromo\")\n",
        "else: \n",
        "  print(\"La palabra no es un palíndromo\")"
      ],
      "metadata": {
        "colab": {
          "base_uri": "https://localhost:8080/"
        },
        "id": "2PX3mCv-h3Mh",
        "outputId": "ec70cbc4-89c7-494a-a132-0829df4aeffd"
      },
      "execution_count": null,
      "outputs": [
        {
          "output_type": "stream",
          "name": "stdout",
          "text": [
            "Dame una palabra cualquiera: dabalearrozalazorraelabad\n",
            "La palabra es un palíndromo\n"
          ]
        }
      ]
    },
    {
      "cell_type": "code",
      "source": [
        "#Ejercicio 4 Los teléfonos de una empresa tienen el siguiente formato \n",
        "#prefijo-número-extension donde el prefijo es el código del país +34, \n",
        "#y la extensión tiene dos dígitos (por ejemplo +34-913724710-56). Escribir un \n",
        "#programa que pregunte por un número de teléfono con este formato y muestre por \n",
        "#pantalla el número de teléfono sin el prefijo y la extensión."
      ],
      "metadata": {
        "colab": {
          "base_uri": "https://localhost:8080/"
        },
        "id": "KSryV-dWzN3F",
        "outputId": "5c892a48-5455-4bf0-e198-75a4761b7980"
      },
      "execution_count": null,
      "outputs": [
        {
          "output_type": "stream",
          "name": "stdout",
          "text": [
            "0.25\n"
          ]
        }
      ]
    },
    {
      "cell_type": "code",
      "source": [
        "#Ejercicio 5 Escribir un programa que pida al usuario que introduzca una frase \n",
        "#en la consola y muestre por pantalla la frase invertida."
      ],
      "metadata": {
        "colab": {
          "base_uri": "https://localhost:8080/"
        },
        "id": "f7EKcnai00kN",
        "outputId": "da9c1275-70f1-4af4-8869-737ba5dc62c1"
      },
      "execution_count": null,
      "outputs": [
        {
          "output_type": "stream",
          "name": "stdout",
          "text": [
            "¿Cuántas horas trabajas?: 10\n",
            "¿Cuáles son tus honorarios por hora?: 20\n",
            "Cobras 200 euros.\n"
          ]
        }
      ]
    }
  ]
}